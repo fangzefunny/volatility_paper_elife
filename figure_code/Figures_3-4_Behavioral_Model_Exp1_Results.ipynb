{
 "cells": [
  {
   "cell_type": "markdown",
   "metadata": {},
   "source": [
    "# Imports"
   ]
  },
  {
   "cell_type": "code",
   "execution_count": 1,
   "metadata": {},
   "outputs": [],
   "source": [
    "import sys\n",
    "import imp\n",
    "import warnings\n",
    "import matplotlib.pyplot as plt\n",
    "import seaborn as sns\n",
    "import numpy as np\n",
    "import pandas as pd\n",
    "from scipy.stats import spearmanr,pearsonr,ttest_1samp, ttest_ind\n",
    "import pickle\n",
    "import warnings\n",
    "from pylab import Rectangle\n",
    "\n",
    "warnings.filterwarnings('ignore')\n",
    "%matplotlib inline"
   ]
  },
  {
   "cell_type": "code",
   "execution_count": 2,
   "metadata": {},
   "outputs": [],
   "source": [
    "sys.path.append('../data_processing_code/')\n",
    "\n",
    "import get_data\n",
    "imp.reload(get_data)\n",
    "from get_data import get_data, get_data_online\n",
    "\n",
    "sys.path.append('./')\n",
    "\n",
    "import convert_params\n",
    "imp.reload(convert_params)\n",
    "from convert_params import *\n",
    "\n",
    "import plotting\n",
    "imp.reload(plotting)\n",
    "from plotting import *"
   ]
  },
  {
   "cell_type": "markdown",
   "metadata": {},
   "source": [
    "# Load Participant Data"
   ]
  },
  {
   "cell_type": "code",
   "execution_count": 3,
   "metadata": {
    "scrolled": true
   },
   "outputs": [
    {
     "name": "stdout",
     "output_type": "stream",
     "text": [
      "pain task excluded:12\n",
      "rew task excluded:9\n",
      "has both: 71\n",
      "pain only:6\n",
      "rew only:9\n",
      "subj X task:157\n",
      "subjs:86\n",
      "(180, 157)\n",
      "(180, 157)\n",
      "(180, 157)\n",
      "(180, 157)\n"
     ]
    }
   ],
   "source": [
    "dftmp = pd.read_csv('../data/participant_table_exp1.csv')\n",
    "data = get_data(dftmp)"
   ]
  },
  {
   "cell_type": "markdown",
   "metadata": {},
   "source": [
    "# Load Parameter Posterior Traces\n"
   ]
  },
  {
   "cell_type": "code",
   "execution_count": 4,
   "metadata": {},
   "outputs": [],
   "source": [
    "# load the model \n",
    "model_name = 'model=11_covariate=Bi3itemCDM_date=2020_4_27_samples=2000_seed=3_exp=1.pkl'\n",
    "with open('../fitting_behavioral_model/model_fits/'+model_name, \"rb\" ) as buff:\n",
    "    model_output = pickle.load(buff)\n",
    "trace=model_output['trace']\n",
    "ppc=model_output['ppc']\n",
    "model=model_output['model']"
   ]
  },
  {
   "cell_type": "markdown",
   "metadata": {},
   "source": [
    "# Figure Specs"
   ]
  },
  {
   "cell_type": "code",
   "execution_count": 5,
   "metadata": {},
   "outputs": [],
   "source": [
    "plt.rcParams.update({'font.size': 11})\n",
    "plt.rcParams.update({'font.family': 'normal'})\n",
    "labelsize =10\n",
    "ticklabelsize=8\n",
    "legendsize=8"
   ]
  },
  {
   "cell_type": "markdown",
   "metadata": {},
   "source": [
    "# Figure 3"
   ]
  },
  {
   "cell_type": "code",
   "execution_count": null,
   "metadata": {
    "scrolled": false
   },
   "outputs": [
    {
     "name": "stdout",
     "output_type": "stream",
     "text": [
      "> \u001b[0;32m/Users/fangzeming/Documents/Github/volatility_paper_elife/figure_code/convert_params.py\u001b[0m(200)\u001b[0;36mget_param_by_subj_by_cond_gbfirst\u001b[0;34m()\u001b[0m\n",
      "\u001b[0;32m    198 \u001b[0;31m                            \u001b[0;32mimport\u001b[0m \u001b[0mpdb\u001b[0m\u001b[0;34m;\u001b[0m \u001b[0mpdb\u001b[0m\u001b[0;34m.\u001b[0m\u001b[0mset_trace\u001b[0m\u001b[0;34m(\u001b[0m\u001b[0;34m)\u001b[0m\u001b[0;34m\u001b[0m\u001b[0;34m\u001b[0m\u001b[0m\n",
      "\u001b[0m\u001b[0;32m    199 \u001b[0;31m\u001b[0;34m\u001b[0m\u001b[0m\n",
      "\u001b[0m\u001b[0;32m--> 200 \u001b[0;31m                    \u001b[0mci\u001b[0m\u001b[0;34m+=\u001b[0m\u001b[0;36m1\u001b[0m\u001b[0;34m\u001b[0m\u001b[0;34m\u001b[0m\u001b[0m\n",
      "\u001b[0m\u001b[0;32m    201 \u001b[0;31m                    \u001b[0mconds\u001b[0m\u001b[0;34m.\u001b[0m\u001b[0mappend\u001b[0m\u001b[0;34m(\u001b[0m\u001b[0mblock\u001b[0m\u001b[0;34m)\u001b[0m\u001b[0;34m\u001b[0m\u001b[0;34m\u001b[0m\u001b[0m\n",
      "\u001b[0m\u001b[0;32m    202 \u001b[0;31m    \u001b[0;32mreturn\u001b[0m\u001b[0;34m(\u001b[0m\u001b[0mparam\u001b[0m\u001b[0;34m,\u001b[0m\u001b[0mconds\u001b[0m\u001b[0;34m)\u001b[0m\u001b[0;34m\u001b[0m\u001b[0;34m\u001b[0m\u001b[0m\n",
      "\u001b[0m\n"
     ]
    }
   ],
   "source": [
    "fig  = plt.figure(figsize=(6.5,2.5),dpi=500)\n",
    "\n",
    "ax1 = plt.axes([0.05, 0.3, 0.2, 0.6]) # left bottom width height \n",
    "ax3 = plt.axes([0.4, 0.3, 0.23, 0.6])\n",
    "ax5 = plt.axes([0.7, 0.3, 0.23, 0.6])\n",
    "axes = [ax1,ax3,ax5]\n",
    "\n",
    "# left \n",
    "plot_param_posterior_errorbars_onesubplot(trace=trace, # data\n",
    "                params=model.params, # model parameter names \n",
    "                gp='u', # group parameter \n",
    "                param = 'lr', # readable name \n",
    "                online=False, # different name replacing\n",
    "                scale='logit',\n",
    "                flipstab=True,\n",
    "                mode=False, # use posteriod mode or mean\n",
    "                offset=0,\n",
    "                ax=axes[0],# plot characteristics \n",
    "                color='k', \n",
    "                legend=False,\n",
    "                title=None,\n",
    "                legendlabel='posterior mean \\n(with 95% HDI)',\n",
    "                ylabel='group mean for \\n learning rate components \\n(in logit space)',\n",
    "                ylabelsize =7,\n",
    "                xlabelsize = 7,\n",
    "                titlesize = 7,\n",
    "                xticklabelsize=7,\n",
    "                yticklabelsize=7,\n",
    "                legendsize=5,\n",
    "                s_bar=3,\n",
    "                elinewidth=1,\n",
    "                legend_anchor=[0.6,0.02],\n",
    "                name_replace=name_replace_nounderscores)\n",
    "\n",
    "\n",
    "# middle and right \n",
    "for i,(ax,task) in enumerate(zip(axes[1:],['reward','aversive'])):\n",
    "    \n",
    "    if i==1:\n",
    "        legend=False\n",
    "    else:\n",
    "        legend=False\n",
    "        \n",
    "    plot_param_by_cond_sep_axes_for_task(trace,\n",
    "                                    data,\n",
    "                                    model,\n",
    "                                    task=task,\n",
    "                                    split='mean',\n",
    "                                    dataset='clinical',\n",
    "                                    param = 'lr',\n",
    "                                    transform = 'logit',\n",
    "                                    pc ='u_PC1', # not used \n",
    "                                    generate_codes=generate_codes_7,\n",
    "                                    median=False,\n",
    "                                    ax=ax,\n",
    "                                    legend=legend,\n",
    "                                    title=task+' task',\n",
    "                                    mlabel=None,\n",
    "                                    ylabel=r'learning rate',\n",
    "                                    violinplot=False,\n",
    "                                    violinside='left',\n",
    "                                    ylabelsize =7,\n",
    "                                    xlabelsize = 7,\n",
    "                                    titlesize = 7,\n",
    "                                    xticklabelsize=7,\n",
    "                                    yticklabelsize=7,\n",
    "                                    legendsize=5,\n",
    "                                    s_bar=3,\n",
    "                                    s=.5,\n",
    "                                    elinewidth=1,\n",
    "                                    alpha_dist = 0.05,\n",
    "                                    ylims=[0,1],\n",
    "                                    legend_anchor=[0.5,0],\n",
    "                                    xbreakline=False)\n",
    "\n",
    "\n",
    "plt.text(-0.45,1.1,'(a)',fontsize=7,transform=ax1.transAxes)\n",
    "plt.text(-.3,1.1,'(b)',fontsize=7,transform=ax3.transAxes)\n",
    "\n",
    "# legends \n",
    "plt.sca(ax1)\n",
    "plt.legend(loc='lower center',ncol=1,bbox_to_anchor=[0.15,-1.05],fontsize=5)\n",
    "\n",
    "plt.sca(ax3)\n",
    "plt.legend(loc='lower center',ncol=1,bbox_to_anchor=[0.45,-1.05],fontsize=5)\n",
    "\n",
    "plt.sca(ax5)\n",
    "plt.legend(loc='lower center',ncol=1,bbox_to_anchor=[0.45,-1.05],fontsize=5)\n",
    "\n",
    "plt.savefig('../figures/figure_3.png',bbox_inches='tight',dpi=500)"
   ]
  },
  {
   "cell_type": "markdown",
   "metadata": {},
   "source": [
    "# Figure 4"
   ]
  },
  {
   "cell_type": "code",
   "execution_count": null,
   "metadata": {
    "scrolled": false
   },
   "outputs": [],
   "source": [
    "fig  = plt.figure(figsize=(6.5,4),dpi=500)\n",
    "\n",
    "ax1 = plt.axes([0.05, 0.4, 0.2, 0.5])\n",
    "ax2 = plt.axes([0.4, 0.65, 0.23, 0.23])\n",
    "ax3 = plt.axes([0.4, 0.15, 0.23, 0.23])\n",
    "ax4 = plt.axes([0.7, 0.65, 0.23, 0.23])\n",
    "ax5 = plt.axes([0.7, 0.15, 0.23, 0.23])\n",
    "\n",
    "\n",
    "# left \n",
    "plot_param_posterior_errorbars_onesubplot(trace=trace, # data\n",
    "                params=model.params, # model parameter names \n",
    "                gp='u_PC1', # group parameter \n",
    "                param = 'lr', # readable name \n",
    "                online=False, # different name replacing\n",
    "                scale='logit',\n",
    "                flipstab=True,\n",
    "                mode=False, # use posteriod mode or mean\n",
    "                offset=0,\n",
    "                ax=ax1,# plot characteristics \n",
    "                color='k', \n",
    "                legend=False,\n",
    "                title=None,\n",
    "                legendlabel='posterior mean (with 95% HDI)',\n",
    "                ylabel='effect of general factor on \\n learning rate component \\n(in logit space)',\n",
    "                ylabelsize =7,\n",
    "                xlabelsize = 7,\n",
    "                titlesize = 7,\n",
    "                xticklabelsize=7,\n",
    "                yticklabelsize=7,\n",
    "                legendsize=5,\n",
    "                s_bar=3,\n",
    "                elinewidth=1,\n",
    "                legend_anchor=[0.6,0.02],\n",
    "                      name_replace=name_replace_nounderscores)\n",
    "\n",
    "\n",
    "# middle and right \n",
    "for i,(ax,task,split) in enumerate(zip([ax2,ax3,ax4,ax5],\n",
    "                                 ['reward','aversive','reward','aversive'],\n",
    "                                 ['low','low','high','high'])):\n",
    "    \n",
    "    if i==1:\n",
    "        legend=False\n",
    "    else:\n",
    "        legend=False\n",
    "        \n",
    "    plot_param_by_cond_sep_axes_for_task(trace,\n",
    "                                    data,\n",
    "                                    model,\n",
    "                                    task=task,\n",
    "                                    split=split,\n",
    "                                    dataset='clinical',\n",
    "                                    param = 'lr',\n",
    "                                    transform = 'logit',\n",
    "                                    pc ='u_PC1', # not used \n",
    "                                    generate_codes=generate_codes_7,\n",
    "                                    median=False,\n",
    "                                    ax=ax,\n",
    "                                    legend=legend,\n",
    "                                    title=None,#task+' task',\n",
    "                                    mlabel=None,\n",
    "                                    ylabel=r'learning rate',\n",
    "                                    scatter_offset=0.05,\n",
    "                                    ebar_offset=-0.1,\n",
    "                                    violinplot=False,\n",
    "                                    violinside='left',\n",
    "                                    ylabelsize =7,\n",
    "                                    xlabelsize = 7,\n",
    "                                    titlesize = 7,\n",
    "                                    xticklabelsize=7,\n",
    "                                    yticklabelsize=7,\n",
    "                                    legendsize=5,\n",
    "                                    s_bar=3,\n",
    "                                    s=.5,\n",
    "                                    elinewidth=1,\n",
    "                                    alpha_dist = 0.05,\n",
    "                                    ylims=[0,1],\n",
    "                                    legend_anchor=[0.5,0])\n",
    "\n",
    "# panel labels \n",
    "plt.sca(ax1)\n",
    "plt.text(-0.45,1.1,'(a)',fontsize=7,transform=ax1.transAxes)\n",
    "\n",
    "\n",
    "plt.sca(ax2)\n",
    "plt.text(-.3,1.3,'(b)',fontsize=7,transform=ax2.transAxes)\n",
    "\n",
    "\n",
    "# Task labels\n",
    "plt.text(0.82,1.15,'reward task',fontsize=7,transform=ax2.transAxes)\n",
    "plt.text(0.82,1.15,'aversive task',fontsize=7,transform=ax3.transAxes)\n",
    "\n",
    "\n",
    "# legends \n",
    "plt.sca(ax1)\n",
    "plt.legend(loc='lower center',ncol=1,bbox_to_anchor=[0.5,-1.02],fontsize=5)\n",
    "\n",
    "plt.sca(ax3)\n",
    "plt.legend(loc='lower center',ncol=1,bbox_to_anchor=[0.3,-1.2],fontsize=5)\n",
    "\n",
    "plt.sca(ax5)\n",
    "plt.legend(loc='lower center',ncol=1,bbox_to_anchor=[0.45,-1.2],fontsize=5)\n",
    "\n",
    "\n",
    "plt.savefig('../figures/figure_4.png',bbox_inches='tight',dpi=500)"
   ]
  },
  {
   "cell_type": "markdown",
   "metadata": {},
   "source": [
    "# Figure 4 figure supplement 1\n"
   ]
  },
  {
   "cell_type": "code",
   "execution_count": null,
   "metadata": {},
   "outputs": [],
   "source": [
    "fig,axes  = plt.subplots(1,2,figsize=(4,3.5),dpi=500)\n",
    "\n",
    "# left \n",
    "plot_param_posterior_errorbars_onesubplot(trace=trace, # data\n",
    "                params=model.params, # model parameter names \n",
    "                gp='u_PC2', # group parameter \n",
    "                param = 'lr', # readable name \n",
    "                online=False, # different name replacing\n",
    "                scale='logit',\n",
    "                flipstab=True,\n",
    "                mode=False, # use posteriod mode or mean\n",
    "                offset=0,\n",
    "                ax=axes[0],# plot characteristics \n",
    "                color='k', \n",
    "                legend=False,\n",
    "                title=None,\n",
    "                legendlabel='posterior mean (with 95% HDI)',\n",
    "                ylabel='effect of depression-specific factor on \\n learning rate component \\n(in logit space)',\n",
    "                ylabelsize =7,\n",
    "                xlabelsize = 7,\n",
    "                titlesize = 7,\n",
    "                xticklabelsize=7,\n",
    "                yticklabelsize=7,\n",
    "                legendsize=5,\n",
    "                s_bar=3,\n",
    "                elinewidth=1,\n",
    "                legend_anchor=[0.6,0.02],\n",
    "                      name_replace=name_replace_nounderscores)\n",
    "\n",
    "# left \n",
    "plot_param_posterior_errorbars_onesubplot(trace=trace, # data\n",
    "                params=model.params, # model parameter names \n",
    "                gp='u_PC3', # group parameter \n",
    "                param = 'lr', # readable name \n",
    "                online=False, # different name replacing\n",
    "                scale='logit',\n",
    "                flipstab=True,\n",
    "                mode=False, # use posteriod mode or mean\n",
    "                offset=0,\n",
    "                ax=axes[1],# plot characteristics \n",
    "                color='k', \n",
    "                legend=False,\n",
    "                title=None,\n",
    "                legendlabel='posterior mean (with 95% HDI)',\n",
    "                ylabel='effect of anxiety-specific factor on \\n learning rate component \\n(in logit space)',\n",
    "                ylabelsize =7,\n",
    "                xlabelsize = 7,\n",
    "                titlesize = 7,\n",
    "                xticklabelsize=7,\n",
    "                yticklabelsize=7,\n",
    "                legendsize=5,\n",
    "                s_bar=3,\n",
    "                elinewidth=1,\n",
    "                legend_anchor=[0.6,0.02],\n",
    "                      name_replace=name_replace_nounderscores)\n",
    "\n",
    "plt.tight_layout()\n",
    "plt.sca(axes[0])\n",
    "plt.text(-0.45,1.3,'(a)',fontsize=7,transform=axes[0].transAxes)\n",
    "\n",
    "\n",
    "plt.sca(axes[1])\n",
    "plt.text(-.3,1.3,'(b)',fontsize=7,transform=axes[1].transAxes)\n",
    "\n",
    "plt.savefig('../figures/figure_4_figure_supplement1.png',bbox_inches='tight',dpi=500)"
   ]
  },
  {
   "cell_type": "markdown",
   "metadata": {},
   "source": [
    "# Posterior Stats"
   ]
  },
  {
   "cell_type": "code",
   "execution_count": null,
   "metadata": {
    "scrolled": false
   },
   "outputs": [],
   "source": [
    "for param in ['lr','Binv','Amix','Bc','mag','lr_c']:\n",
    "    for i,gp in enumerate(['u','u_PC1','u_PC2','u_PC3',]):\n",
    "        print('')\n",
    "        print_posteriors(params=model.params,\n",
    "                             which=param,\n",
    "                             trace_dev=trace,\n",
    "                             group_param=gp,name=gp,roundit=2)"
   ]
  },
  {
   "cell_type": "code",
   "execution_count": null,
   "metadata": {},
   "outputs": [],
   "source": []
  }
 ],
 "metadata": {
  "kernelspec": {
   "display_name": "Python 3 (ipykernel)",
   "language": "python",
   "name": "python3"
  },
  "language_info": {
   "codemirror_mode": {
    "name": "ipython",
    "version": 3
   },
   "file_extension": ".py",
   "mimetype": "text/x-python",
   "name": "python",
   "nbconvert_exporter": "python",
   "pygments_lexer": "ipython3",
   "version": "3.7.11"
  },
  "toc": {
   "base_numbering": 1,
   "nav_menu": {},
   "number_sections": true,
   "sideBar": true,
   "skip_h1_title": false,
   "title_cell": "Table of Contents",
   "title_sidebar": "Contents",
   "toc_cell": false,
   "toc_position": {},
   "toc_section_display": true,
   "toc_window_display": true
  }
 },
 "nbformat": 4,
 "nbformat_minor": 2
}
