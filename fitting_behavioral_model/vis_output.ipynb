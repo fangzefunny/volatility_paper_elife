{
 "cells": [
  {
   "cell_type": "code",
   "execution_count": 45,
   "id": "b83f9d73",
   "metadata": {},
   "outputs": [],
   "source": [
    "import os\n",
    "import sys\n",
    "import pickle\n",
    "\n",
    "sys.path.append( '../model_code/')\n",
    "sys.path.append( '../data_processing_code/')\n",
    "\n",
    "import models_ym1 as model_specific\n",
    "import get_data\n",
    "from get_data import get_data\n",
    "import model_base\n",
    "from model_base import * \n",
    "\n",
    "import matplotlib.pyplot as plt "
   ]
  },
  {
   "cell_type": "code",
   "execution_count": 2,
   "id": "a5238ac0",
   "metadata": {},
   "outputs": [],
   "source": [
    "with open(f'{os.getcwd()}/model_fits/model=ym1_covariate=Bi3itemCDM_date=2021_9_7_samples=2000_seed=3_exp=1.pkl', 'rb') as handle:\n",
    "    ym1_res =   pickle.load(handle)\n"
   ]
  },
  {
   "cell_type": "code",
   "execution_count": 3,
   "id": "e9860019",
   "metadata": {},
   "outputs": [],
   "source": [
    "Theta_est = ym1_res['trace']['Theta'].mean(axis=0)"
   ]
  },
  {
   "cell_type": "code",
   "execution_count": 21,
   "id": "cca47331",
   "metadata": {},
   "outputs": [],
   "source": [
    "params = ym1_res['model'].params"
   ]
  },
  {
   "cell_type": "code",
   "execution_count": 23,
   "id": "a2ddae2e",
   "metadata": {},
   "outputs": [
    {
     "data": {
      "text/plain": [
       "(['lr_baseline',\n",
       "  'lr_goodbad',\n",
       "  'lr_stabvol',\n",
       "  'lr_goodbad_stabvol',\n",
       "  'lr_c_baseline',\n",
       "  'lr_c_goodbad',\n",
       "  'lr_c_stabvol',\n",
       "  'lr_c_goodbad_stabvol',\n",
       "  'Binv_baseline',\n",
       "  'Binv_goodbad',\n",
       "  'Binv_stabvol',\n",
       "  'Binv_goodbad_stabvol',\n",
       "  'Bc_baseline',\n",
       "  'mag_baseline',\n",
       "  'lr_rewpain',\n",
       "  'lr_rewpain_goodbad',\n",
       "  'lr_rewpain_stabvol',\n",
       "  'lr_rewpain_goodbad_stabvol',\n",
       "  'lr_c_rewpain',\n",
       "  'lr_c_rewpain_goodbad',\n",
       "  'lr_c_rewpain_stabvol',\n",
       "  'lr_c_rewpain_goodbad_stabvol',\n",
       "  'Binv_rewpain',\n",
       "  'Binv_rewpain_goodbad',\n",
       "  'Binv_rewpain_stabvol',\n",
       "  'Bc_rewpain',\n",
       "  'mag_rewpain'],\n",
       " 27)"
      ]
     },
     "execution_count": 23,
     "metadata": {},
     "output_type": "execute_result"
    }
   ],
   "source": [
    "params, len(params)"
   ]
  },
  {
   "cell_type": "code",
   "execution_count": 5,
   "id": "319973e8",
   "metadata": {},
   "outputs": [
    {
     "name": "stdout",
     "output_type": "stream",
     "text": [
      "pain task excluded:12\n",
      "rew task excluded:9\n",
      "has both: 71\n",
      "pain only:6\n",
      "rew only:9\n",
      "subj X task:157\n",
      "subjs:86\n",
      "(180, 157)\n",
      "(180, 157)\n",
      "(180, 157)\n",
      "(180, 157)\n"
     ]
    }
   ],
   "source": [
    "# input experiment condition\n",
    "data = get_data(pd.read_csv( '../data/participant_table_exp1.csv'))\n",
    "X = {}\n",
    "X['NN'] = data['outcomes_c_flipped'].shape[1]\n",
    "X['Nboth'] = data[ 'Nboth']\n",
    "X['Nrewonly'] = data[ 'Nrewonly']\n",
    "X['Npainonly'] = data[ 'Npainonly']\n",
    "subj_ind_both = slice( 0, X['Nboth'])\n",
    "subj_ind_rewonly = slice( 0, X['Nrewonly'])\n",
    "subj_ind_painonly = slice( 0, X['Npainonly'])\n",
    "\n",
    "for var in ['outcomes_c_flipped','mag_1_c','mag_0_c','stabvol','rewpain']:\n",
    "    X[var]=data[var]"
   ]
  },
  {
   "cell_type": "code",
   "execution_count": 6,
   "id": "ba832be1",
   "metadata": {},
   "outputs": [],
   "source": [
    "# prepare the prediction\n",
    "Y = {}\n",
    "Y['participants_choice'] = data['participants_choice']"
   ]
  },
  {
   "cell_type": "code",
   "execution_count": 8,
   "id": "1b5ac953",
   "metadata": {},
   "outputs": [
    {
     "name": "stderr",
     "output_type": "stream",
     "text": [
      "/opt/anaconda3/envs/pymc3/lib/python3.7/site-packages/theano/scan_module/scan_perform_ext.py:76: UserWarning: The file scan_perform.c is not available. This donot happen normally. You are probably in a strangesetup. This mean Theano can not use the cython code for scan. If youwant to remove this warning, use the Theano flag'cxx=' (set to an empty string) to disable all ccode generation.\n",
      "  \"The file scan_perform.c is not available. This do\"\n"
     ]
    }
   ],
   "source": [
    "f, roi_vars = model_specific.create_gen_choice_model( X, Y, param_names=params)"
   ]
  },
  {
   "cell_type": "code",
   "execution_count": 11,
   "id": "33bd3a9b",
   "metadata": {},
   "outputs": [],
   "source": [
    "sim_data = f(Theta_est)"
   ]
  },
  {
   "cell_type": "code",
   "execution_count": 18,
   "id": "be63ee74",
   "metadata": {},
   "outputs": [],
   "source": [
    "history = dict()\n",
    "history['ps1']    = sim_data[ 4]\n",
    "history['qc1']    = sim_data[ 5]\n",
    "history['pi1_s1'] = sim_data[-2]\n",
    "history['pi1_s2'] = sim_data[-1]\n",
    "history['mag_1']  = X['mag_1_c']\n",
    "history['mag_2']  = X['mag_0_c']"
   ]
  },
  {
   "cell_type": "code",
   "execution_count": 34,
   "id": "042b9d28",
   "metadata": {},
   "outputs": [],
   "source": [
    "def cal_mi_reward( in_data):\n",
    "    \n",
    "    # unpack the data\n",
    "    ps1, qc1, pi1_s1, pi1_s2, mag_1, mag_2 = in_data\n",
    "    \n",
    "    # define a small number to avoid the log issue\n",
    "    eps = 1e-10\n",
    "    \n",
    "    # rewrite ps, qc, pi, Q in the form of matrix \n",
    "    # follow the shape of |S| x |C|\n",
    "    ps = np.array( [ ps1, 1-ps1]).reshape([ -1,  1])\n",
    "    qc = np.array( [ qc1, 1-qc1]).reshape([  1, -1])\n",
    "    pi = np.array( [[ pi1_s1, 1-pi1_s1], \n",
    "                    [ pi1_s2, 1-pi1_s2]])\n",
    "    Q  = np.array( [[ mag_1,     0], \n",
    "                    [     0, mag_2]])\n",
    "    \n",
    "    E_utility = np.sum( ps * pi * ( np.log( pi + eps) - np.log( qc + eps)))  \n",
    "    pi_comp   = np.sum( ps * pi * Q)\n",
    "    psi_comp  = -np.sum( ps * np.log( ps + eps))\n",
    "    \n",
    "    return E_utility, psi_comp, pi_comp"
   ]
  },
  {
   "cell_type": "code",
   "execution_count": 42,
   "id": "e7e70c2d",
   "metadata": {},
   "outputs": [],
   "source": [
    "roi_vars     = [ 'ps1', 'qc1', 'pi1_s1', 'pi1_s2', 'mag_1', 'mag_2']\n",
    "roi_features = [ 'E_U', 'pi_comp', 'psi_comp']\n",
    "\n",
    "for phi in roi_features:\n",
    "    T, N = history['ps1'].shape\n",
    "    history[phi] = np.zeros( [ T, N]) + np.nan\n",
    "    \n",
    "for t in range(T):\n",
    "    for n in range(N):\n",
    "        in_data = [ history[var][t, n] for var in roi_vars]\n",
    "        E_U, psi_comp, pi_comp    = cal_mi_reward( in_data)\n",
    "        history['E_U'][t, n]      = E_U\n",
    "        history['psi_comp'][t, n] = psi_comp\n",
    "        history['pi_comp'][t, n]  = pi_comp\n",
    "        \n",
    "    "
   ]
  },
  {
   "cell_type": "code",
   "execution_count": 49,
   "id": "861d6ef0",
   "metadata": {},
   "outputs": [
    {
     "data": {
      "text/plain": [
       "<matplotlib.collections.PathCollection at 0x7fdb843b2510>"
      ]
     },
     "execution_count": 49,
     "metadata": {},
     "output_type": "execute_result"
    },
    {
     "data": {
      "image/png": "[encoded data removed]",
      "text/plain": [
       "<Figure size 432x288 with 1 Axes>"
      ]
     },
     "metadata": {
      "needs_background": "light"
     },
     "output_type": "display_data"
    }
   ],
   "source": [
    "plt.scatter( np.mean(history['E_U'],0), np.mean(history['pi_comp'],0))"
   ]
  },
  {
   "cell_type": "code",
   "execution_count": null,
   "id": "6a2b614c",
   "metadata": {},
   "outputs": [],
   "source": []
  }
 ],
 "metadata": {
  "kernelspec": {
   "display_name": "Python 3 (ipykernel)",
   "language": "python",
   "name": "python3"
  },
  "language_info": {
   "codemirror_mode": {
    "name": "ipython",
    "version": 3
   },
   "file_extension": ".py",
   "mimetype": "text/x-python",
   "name": "python",
   "nbconvert_exporter": "python",
   "pygments_lexer": "ipython3",
   "version": "3.7.11"
  }
 },
 "nbformat": 4,
 "nbformat_minor": 5
}
